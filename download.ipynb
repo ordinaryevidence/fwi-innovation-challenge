{
 "cells": [
  {
   "cell_type": "code",
   "execution_count": null,
   "metadata": {},
   "outputs": [],
   "source": [
    "import ee\n",
    "import geemap\n",
    "import numpy as np\n",
    "import pandas as pd"
   ]
  },
  {
   "cell_type": "code",
   "execution_count": 12,
   "metadata": {},
   "outputs": [
    {
     "data": {
      "text/html": [
       "\n",
       "            <style>\n",
       "                .geemap-dark {\n",
       "                    --jp-widgets-color: white;\n",
       "                    --jp-widgets-label-color: white;\n",
       "                    --jp-ui-font-color1: white;\n",
       "                    --jp-layout-color2: #454545;\n",
       "                    background-color: #383838;\n",
       "                }\n",
       "\n",
       "                .geemap-dark .jupyter-button {\n",
       "                    --jp-layout-color3: #383838;\n",
       "                }\n",
       "\n",
       "                .geemap-colab {\n",
       "                    background-color: var(--colab-primary-surface-color, white);\n",
       "                }\n",
       "\n",
       "                .geemap-colab .jupyter-button {\n",
       "                    --jp-layout-color3: var(--colab-primary-surface-color, white);\n",
       "                }\n",
       "            </style>\n",
       "            "
      ],
      "text/plain": [
       "<IPython.core.display.HTML object>"
      ]
     },
     "metadata": {},
     "output_type": "display_data"
    }
   ],
   "source": [
    "def get_s2(dt, lat, lng):\n",
    "    d1 = (dt - pd.DateOffset(days=1)).strftime('%Y-%m-%d')\n",
    "    d2 = (dt + pd.DateOffset(days=1)).strftime('%Y-%m-%d')\n",
    "\n",
    "    distance_km = 1\n",
    "    km_per_degree_lat = 111\n",
    "\n",
    "    lat_offset = distance_km / km_per_degree_lat / 2\n",
    "    lng_offset = distance_km / \\\n",
    "        (km_per_degree_lat * np.cos(np.radians(lat))) / 2\n",
    "\n",
    "    bbox = ee.Geometry.Rectangle(\n",
    "        [lng - lng_offset, lat - lat_offset, lng + lng_offset, lat + lat_offset])\n",
    "\n",
    "    s2 = ee.ImageCollection('COPERNICUS/S2_HARMONIZED') \\\n",
    "        .filterBounds(bbox) \\\n",
    "        .filterDate(d1, d2) \\\n",
    "        .filterMetadata('CLOUDY_PIXEL_PERCENTAGE', 'less_than', 20) \\\n",
    "        .sort('CLOUDY_PIXEL_PERCENTAGE') \\\n",
    "        .mosaic() \\\n",
    "        .clip(bbox)\n",
    "\n",
    "    return s2"
   ]
  },
  {
   "cell_type": "code",
   "execution_count": 13,
   "metadata": {},
   "outputs": [
    {
     "data": {
      "text/html": [
       "\n",
       "            <style>\n",
       "                .geemap-dark {\n",
       "                    --jp-widgets-color: white;\n",
       "                    --jp-widgets-label-color: white;\n",
       "                    --jp-ui-font-color1: white;\n",
       "                    --jp-layout-color2: #454545;\n",
       "                    background-color: #383838;\n",
       "                }\n",
       "\n",
       "                .geemap-dark .jupyter-button {\n",
       "                    --jp-layout-color3: #383838;\n",
       "                }\n",
       "\n",
       "                .geemap-colab {\n",
       "                    background-color: var(--colab-primary-surface-color, white);\n",
       "                }\n",
       "\n",
       "                .geemap-colab .jupyter-button {\n",
       "                    --jp-layout-color3: var(--colab-primary-surface-color, white);\n",
       "                }\n",
       "            </style>\n",
       "            "
      ],
      "text/plain": [
       "<IPython.core.display.HTML object>"
      ]
     },
     "metadata": {},
     "output_type": "display_data"
    },
    {
     "data": {
      "text/html": [
       "<div>\n",
       "<style scoped>\n",
       "    .dataframe tbody tr th:only-of-type {\n",
       "        vertical-align: middle;\n",
       "    }\n",
       "\n",
       "    .dataframe tbody tr th {\n",
       "        vertical-align: top;\n",
       "    }\n",
       "\n",
       "    .dataframe thead th {\n",
       "        text-align: right;\n",
       "    }\n",
       "</style>\n",
       "<table border=\"1\" class=\"dataframe\">\n",
       "  <thead>\n",
       "    <tr style=\"text-align: right;\">\n",
       "      <th></th>\n",
       "      <th>GEMS.Station.Number</th>\n",
       "      <th>Depth</th>\n",
       "      <th>Datetime</th>\n",
       "      <th>%</th>\n",
       "      <th>mg/l</th>\n",
       "      <th>Water Type</th>\n",
       "      <th>Elevation</th>\n",
       "      <th>Latitude</th>\n",
       "      <th>Longitude</th>\n",
       "    </tr>\n",
       "  </thead>\n",
       "  <tbody>\n",
       "    <tr>\n",
       "      <th>0</th>\n",
       "      <td>AUT00252</td>\n",
       "      <td>0.3</td>\n",
       "      <td>2012-10-09 12:00:00</td>\n",
       "      <td>115.0</td>\n",
       "      <td>10.1</td>\n",
       "      <td>Lake station</td>\n",
       "      <td>437.0</td>\n",
       "      <td>46.63092</td>\n",
       "      <td>14.12236</td>\n",
       "    </tr>\n",
       "    <tr>\n",
       "      <th>1</th>\n",
       "      <td>AUT00252</td>\n",
       "      <td>0.3</td>\n",
       "      <td>2012-12-19 12:00:00</td>\n",
       "      <td>79.0</td>\n",
       "      <td>9.4</td>\n",
       "      <td>Lake station</td>\n",
       "      <td>437.0</td>\n",
       "      <td>46.63092</td>\n",
       "      <td>14.12236</td>\n",
       "    </tr>\n",
       "    <tr>\n",
       "      <th>2</th>\n",
       "      <td>AUT00252</td>\n",
       "      <td>0.3</td>\n",
       "      <td>2013-05-14 12:00:00</td>\n",
       "      <td>118.0</td>\n",
       "      <td>10.6</td>\n",
       "      <td>Lake station</td>\n",
       "      <td>437.0</td>\n",
       "      <td>46.63092</td>\n",
       "      <td>14.12236</td>\n",
       "    </tr>\n",
       "    <tr>\n",
       "      <th>3</th>\n",
       "      <td>AUT00252</td>\n",
       "      <td>0.3</td>\n",
       "      <td>2013-06-26 12:00:00</td>\n",
       "      <td>105.0</td>\n",
       "      <td>8.8</td>\n",
       "      <td>Lake station</td>\n",
       "      <td>437.0</td>\n",
       "      <td>46.63092</td>\n",
       "      <td>14.12236</td>\n",
       "    </tr>\n",
       "    <tr>\n",
       "      <th>4</th>\n",
       "      <td>AUT00252</td>\n",
       "      <td>0.3</td>\n",
       "      <td>2013-09-25 12:00:00</td>\n",
       "      <td>108.0</td>\n",
       "      <td>9.4</td>\n",
       "      <td>Lake station</td>\n",
       "      <td>437.0</td>\n",
       "      <td>46.63092</td>\n",
       "      <td>14.12236</td>\n",
       "    </tr>\n",
       "  </tbody>\n",
       "</table>\n",
       "</div>"
      ],
      "text/plain": [
       "  GEMS.Station.Number  Depth            Datetime      %  mg/l    Water Type  \\\n",
       "0            AUT00252    0.3 2012-10-09 12:00:00  115.0  10.1  Lake station   \n",
       "1            AUT00252    0.3 2012-12-19 12:00:00   79.0   9.4  Lake station   \n",
       "2            AUT00252    0.3 2013-05-14 12:00:00  118.0  10.6  Lake station   \n",
       "3            AUT00252    0.3 2013-06-26 12:00:00  105.0   8.8  Lake station   \n",
       "4            AUT00252    0.3 2013-09-25 12:00:00  108.0   9.4  Lake station   \n",
       "\n",
       "   Elevation  Latitude  Longitude  \n",
       "0      437.0  46.63092   14.12236  \n",
       "1      437.0  46.63092   14.12236  \n",
       "2      437.0  46.63092   14.12236  \n",
       "3      437.0  46.63092   14.12236  \n",
       "4      437.0  46.63092   14.12236  "
      ]
     },
     "execution_count": 13,
     "metadata": {},
     "output_type": "execute_result"
    }
   ],
   "source": [
    "o2_dis = pd.read_csv('data/o2_dis.csv', parse_dates=['Datetime'])\n",
    "o2_dis.head()"
   ]
  },
  {
   "cell_type": "code",
   "execution_count": 15,
   "metadata": {},
   "outputs": [
    {
     "data": {
      "text/html": [
       "\n",
       "            <style>\n",
       "                .geemap-dark {\n",
       "                    --jp-widgets-color: white;\n",
       "                    --jp-widgets-label-color: white;\n",
       "                    --jp-ui-font-color1: white;\n",
       "                    --jp-layout-color2: #454545;\n",
       "                    background-color: #383838;\n",
       "                }\n",
       "\n",
       "                .geemap-dark .jupyter-button {\n",
       "                    --jp-layout-color3: #383838;\n",
       "                }\n",
       "\n",
       "                .geemap-colab {\n",
       "                    background-color: var(--colab-primary-surface-color, white);\n",
       "                }\n",
       "\n",
       "                .geemap-colab .jupyter-button {\n",
       "                    --jp-layout-color3: var(--colab-primary-surface-color, white);\n",
       "                }\n",
       "            </style>\n",
       "            "
      ],
      "text/plain": [
       "<IPython.core.display.HTML object>"
      ]
     },
     "metadata": {},
     "output_type": "display_data"
    },
    {
     "name": "stdout",
     "output_type": "stream",
     "text": [
      "No image found for 2012-10-09 12:00:00\n",
      "No image found for 2012-12-19 12:00:00\n",
      "No image found for 2013-05-14 12:00:00\n",
      "No image found for 2013-06-26 12:00:00\n",
      "No image found for 2013-09-25 12:00:00\n",
      "No image found for 2013-12-03 12:00:00\n",
      "No image found for 2014-03-11 12:00:00\n",
      "No image found for 2014-06-23 12:00:00\n",
      "No image found for 2014-09-16 12:00:00\n",
      "No image found for 2014-12-09 12:00:00\n",
      "No image found for 2016-03-16 12:00:00\n",
      "No image found for 2016-06-02 12:00:00\n",
      "No image found for 2016-09-07 12:00:00\n",
      "Image found for 2016-12-05 12:00:00\n"
     ]
    }
   ],
   "source": [
    "ee.Initialize()\n",
    "\n",
    "for i, row in o2_dis.iterrows():\n",
    "    s2 = get_s2(*row[['Datetime', 'Latitude', 'Longitude']])\n",
    "    if s2.getInfo()['bands'] == []:\n",
    "        print(f\"No image found for {row['Datetime']}\")\n",
    "        continue\n",
    "    else:\n",
    "        print(f\"Image found for {row['Datetime']}\")\n",
    "        break\n",
    "        filename = row['GEMS.Station.Number'] + '-' + \\\n",
    "            row['Datetime'].strftime('%Y%m%d-%H%M%S') + '.tif'\n",
    "        geemap.ee_export_image(\n",
    "            s2, filename=filename, scale=10, region=s2.geometry().bounds().getInfo()['coordinates'][0], file_per_band=False)"
   ]
  },
  {
   "cell_type": "code",
   "execution_count": 16,
   "metadata": {},
   "outputs": [
    {
     "data": {
      "text/html": [
       "\n",
       "            <style>\n",
       "                .geemap-dark {\n",
       "                    --jp-widgets-color: white;\n",
       "                    --jp-widgets-label-color: white;\n",
       "                    --jp-ui-font-color1: white;\n",
       "                    --jp-layout-color2: #454545;\n",
       "                    background-color: #383838;\n",
       "                }\n",
       "\n",
       "                .geemap-dark .jupyter-button {\n",
       "                    --jp-layout-color3: #383838;\n",
       "                }\n",
       "\n",
       "                .geemap-colab {\n",
       "                    background-color: var(--colab-primary-surface-color, white);\n",
       "                }\n",
       "\n",
       "                .geemap-colab .jupyter-button {\n",
       "                    --jp-layout-color3: var(--colab-primary-surface-color, white);\n",
       "                }\n",
       "            </style>\n",
       "            "
      ],
      "text/plain": [
       "<IPython.core.display.HTML object>"
      ]
     },
     "metadata": {},
     "output_type": "display_data"
    },
    {
     "data": {
      "text/plain": [
       "{'B1': {'type': 'PixelType', 'precision': 'int', 'min': 0, 'max': 65535},\n",
       " 'B10': {'type': 'PixelType', 'precision': 'int', 'min': 0, 'max': 65535},\n",
       " 'B11': {'type': 'PixelType', 'precision': 'int', 'min': 0, 'max': 65535},\n",
       " 'B12': {'type': 'PixelType', 'precision': 'int', 'min': 0, 'max': 65535},\n",
       " 'B2': {'type': 'PixelType', 'precision': 'int', 'min': 0, 'max': 65535},\n",
       " 'B3': {'type': 'PixelType', 'precision': 'int', 'min': 0, 'max': 65535},\n",
       " 'B4': {'type': 'PixelType', 'precision': 'int', 'min': 0, 'max': 65535},\n",
       " 'B5': {'type': 'PixelType', 'precision': 'int', 'min': 0, 'max': 65535},\n",
       " 'B6': {'type': 'PixelType', 'precision': 'int', 'min': 0, 'max': 65535},\n",
       " 'B7': {'type': 'PixelType', 'precision': 'int', 'min': 0, 'max': 65535},\n",
       " 'B8': {'type': 'PixelType', 'precision': 'int', 'min': 0, 'max': 65535},\n",
       " 'B8A': {'type': 'PixelType', 'precision': 'int', 'min': 0, 'max': 65535},\n",
       " 'B9': {'type': 'PixelType', 'precision': 'int', 'min': 0, 'max': 65535},\n",
       " 'MSK_CLASSI_CIRRUS': {'type': 'PixelType',\n",
       "  'precision': 'int',\n",
       "  'min': 0,\n",
       "  'max': 255},\n",
       " 'MSK_CLASSI_OPAQUE': {'type': 'PixelType',\n",
       "  'precision': 'int',\n",
       "  'min': 0,\n",
       "  'max': 255},\n",
       " 'MSK_CLASSI_SNOW_ICE': {'type': 'PixelType',\n",
       "  'precision': 'int',\n",
       "  'min': 0,\n",
       "  'max': 255},\n",
       " 'QA10': {'type': 'PixelType', 'precision': 'int', 'min': 0, 'max': 65535},\n",
       " 'QA20': {'type': 'PixelType',\n",
       "  'precision': 'int',\n",
       "  'min': 0,\n",
       "  'max': 4294967295},\n",
       " 'QA60': {'type': 'PixelType', 'precision': 'int', 'min': 0, 'max': 65535}}"
      ]
     },
     "execution_count": 16,
     "metadata": {},
     "output_type": "execute_result"
    }
   ],
   "source": [
    "s2.bandTypes().getInfo()"
   ]
  },
  {
   "cell_type": "code",
   "execution_count": 125,
   "metadata": {},
   "outputs": [
    {
     "data": {
      "text/html": [
       "\n",
       "            <style>\n",
       "                .geemap-dark {\n",
       "                    --jp-widgets-color: white;\n",
       "                    --jp-widgets-label-color: white;\n",
       "                    --jp-ui-font-color1: white;\n",
       "                    --jp-layout-color2: #454545;\n",
       "                    background-color: #383838;\n",
       "                }\n",
       "\n",
       "                .geemap-dark .jupyter-button {\n",
       "                    --jp-layout-color3: #383838;\n",
       "                }\n",
       "\n",
       "                .geemap-colab {\n",
       "                    background-color: var(--colab-primary-surface-color, white);\n",
       "                }\n",
       "\n",
       "                .geemap-colab .jupyter-button {\n",
       "                    --jp-layout-color3: var(--colab-primary-surface-color, white);\n",
       "                }\n",
       "            </style>\n",
       "            "
      ],
      "text/plain": [
       "<IPython.core.display.HTML object>"
      ]
     },
     "metadata": {},
     "output_type": "display_data"
    },
    {
     "data": {
      "application/vnd.jupyter.widget-view+json": {
       "model_id": "03e5a650c0174ddd846bd357cfbccdff",
       "version_major": 2,
       "version_minor": 0
      },
      "text/plain": [
       "Map(center=[46.63092, 14.12236], controls=(WidgetControl(options=['position', 'transparent_bg'], widget=Search…"
      ]
     },
     "metadata": {},
     "output_type": "display_data"
    }
   ],
   "source": [
    "Map = geemap.Map(center=[row['Latitude'], row['Longitude']], zoom=12)\n",
    "\n",
    "vis_params = {'bands': ['B4', 'B3', 'B2'], 'min': 0, 'max': 3000}\n",
    "Map.addLayer(s2, vis_params, 'Sentinel-2 Image')\n",
    "\n",
    "display(Map)"
   ]
  },
  {
   "cell_type": "code",
   "execution_count": 134,
   "metadata": {},
   "outputs": [
    {
     "data": {
      "text/html": [
       "\n",
       "            <style>\n",
       "                .geemap-dark {\n",
       "                    --jp-widgets-color: white;\n",
       "                    --jp-widgets-label-color: white;\n",
       "                    --jp-ui-font-color1: white;\n",
       "                    --jp-layout-color2: #454545;\n",
       "                    background-color: #383838;\n",
       "                }\n",
       "\n",
       "                .geemap-dark .jupyter-button {\n",
       "                    --jp-layout-color3: #383838;\n",
       "                }\n",
       "\n",
       "                .geemap-colab {\n",
       "                    background-color: var(--colab-primary-surface-color, white);\n",
       "                }\n",
       "\n",
       "                .geemap-colab .jupyter-button {\n",
       "                    --jp-layout-color3: var(--colab-primary-surface-color, white);\n",
       "                }\n",
       "            </style>\n",
       "            "
      ],
      "text/plain": [
       "<IPython.core.display.HTML object>"
      ]
     },
     "metadata": {},
     "output_type": "display_data"
    },
    {
     "data": {
      "text/plain": [
       "{'type': 'Image',\n",
       " 'bands': [{'id': 'B1',\n",
       "   'data_type': {'type': 'PixelType',\n",
       "    'precision': 'int',\n",
       "    'min': 0,\n",
       "    'max': 65535},\n",
       "   'dimensions': [2, 2],\n",
       "   'origin': [13, 46],\n",
       "   'crs': 'EPSG:4326',\n",
       "   'crs_transform': [1, 0, 0, 0, 1, 0]},\n",
       "  {'id': 'B2',\n",
       "   'data_type': {'type': 'PixelType',\n",
       "    'precision': 'int',\n",
       "    'min': 0,\n",
       "    'max': 65535},\n",
       "   'dimensions': [2, 2],\n",
       "   'origin': [13, 46],\n",
       "   'crs': 'EPSG:4326',\n",
       "   'crs_transform': [1, 0, 0, 0, 1, 0]},\n",
       "  {'id': 'B3',\n",
       "   'data_type': {'type': 'PixelType',\n",
       "    'precision': 'int',\n",
       "    'min': 0,\n",
       "    'max': 65535},\n",
       "   'dimensions': [2, 2],\n",
       "   'origin': [13, 46],\n",
       "   'crs': 'EPSG:4326',\n",
       "   'crs_transform': [1, 0, 0, 0, 1, 0]},\n",
       "  {'id': 'B4',\n",
       "   'data_type': {'type': 'PixelType',\n",
       "    'precision': 'int',\n",
       "    'min': 0,\n",
       "    'max': 65535},\n",
       "   'dimensions': [2, 2],\n",
       "   'origin': [13, 46],\n",
       "   'crs': 'EPSG:4326',\n",
       "   'crs_transform': [1, 0, 0, 0, 1, 0]},\n",
       "  {'id': 'B5',\n",
       "   'data_type': {'type': 'PixelType',\n",
       "    'precision': 'int',\n",
       "    'min': 0,\n",
       "    'max': 65535},\n",
       "   'dimensions': [2, 2],\n",
       "   'origin': [13, 46],\n",
       "   'crs': 'EPSG:4326',\n",
       "   'crs_transform': [1, 0, 0, 0, 1, 0]},\n",
       "  {'id': 'B6',\n",
       "   'data_type': {'type': 'PixelType',\n",
       "    'precision': 'int',\n",
       "    'min': 0,\n",
       "    'max': 65535},\n",
       "   'dimensions': [2, 2],\n",
       "   'origin': [13, 46],\n",
       "   'crs': 'EPSG:4326',\n",
       "   'crs_transform': [1, 0, 0, 0, 1, 0]},\n",
       "  {'id': 'B7',\n",
       "   'data_type': {'type': 'PixelType',\n",
       "    'precision': 'int',\n",
       "    'min': 0,\n",
       "    'max': 65535},\n",
       "   'dimensions': [2, 2],\n",
       "   'origin': [13, 46],\n",
       "   'crs': 'EPSG:4326',\n",
       "   'crs_transform': [1, 0, 0, 0, 1, 0]},\n",
       "  {'id': 'B8',\n",
       "   'data_type': {'type': 'PixelType',\n",
       "    'precision': 'int',\n",
       "    'min': 0,\n",
       "    'max': 65535},\n",
       "   'dimensions': [2, 2],\n",
       "   'origin': [13, 46],\n",
       "   'crs': 'EPSG:4326',\n",
       "   'crs_transform': [1, 0, 0, 0, 1, 0]},\n",
       "  {'id': 'B8A',\n",
       "   'data_type': {'type': 'PixelType',\n",
       "    'precision': 'int',\n",
       "    'min': 0,\n",
       "    'max': 65535},\n",
       "   'dimensions': [2, 2],\n",
       "   'origin': [13, 46],\n",
       "   'crs': 'EPSG:4326',\n",
       "   'crs_transform': [1, 0, 0, 0, 1, 0]},\n",
       "  {'id': 'B9',\n",
       "   'data_type': {'type': 'PixelType',\n",
       "    'precision': 'int',\n",
       "    'min': 0,\n",
       "    'max': 65535},\n",
       "   'dimensions': [2, 2],\n",
       "   'origin': [13, 46],\n",
       "   'crs': 'EPSG:4326',\n",
       "   'crs_transform': [1, 0, 0, 0, 1, 0]},\n",
       "  {'id': 'B10',\n",
       "   'data_type': {'type': 'PixelType',\n",
       "    'precision': 'int',\n",
       "    'min': 0,\n",
       "    'max': 65535},\n",
       "   'dimensions': [2, 2],\n",
       "   'origin': [13, 46],\n",
       "   'crs': 'EPSG:4326',\n",
       "   'crs_transform': [1, 0, 0, 0, 1, 0]},\n",
       "  {'id': 'B11',\n",
       "   'data_type': {'type': 'PixelType',\n",
       "    'precision': 'int',\n",
       "    'min': 0,\n",
       "    'max': 65535},\n",
       "   'dimensions': [2, 2],\n",
       "   'origin': [13, 46],\n",
       "   'crs': 'EPSG:4326',\n",
       "   'crs_transform': [1, 0, 0, 0, 1, 0]},\n",
       "  {'id': 'B12',\n",
       "   'data_type': {'type': 'PixelType',\n",
       "    'precision': 'int',\n",
       "    'min': 0,\n",
       "    'max': 65535},\n",
       "   'dimensions': [2, 2],\n",
       "   'origin': [13, 46],\n",
       "   'crs': 'EPSG:4326',\n",
       "   'crs_transform': [1, 0, 0, 0, 1, 0]},\n",
       "  {'id': 'QA10',\n",
       "   'data_type': {'type': 'PixelType',\n",
       "    'precision': 'int',\n",
       "    'min': 0,\n",
       "    'max': 65535},\n",
       "   'dimensions': [2, 2],\n",
       "   'origin': [13, 46],\n",
       "   'crs': 'EPSG:4326',\n",
       "   'crs_transform': [1, 0, 0, 0, 1, 0]},\n",
       "  {'id': 'QA20',\n",
       "   'data_type': {'type': 'PixelType',\n",
       "    'precision': 'int',\n",
       "    'min': 0,\n",
       "    'max': 4294967295},\n",
       "   'dimensions': [2, 2],\n",
       "   'origin': [13, 46],\n",
       "   'crs': 'EPSG:4326',\n",
       "   'crs_transform': [1, 0, 0, 0, 1, 0]},\n",
       "  {'id': 'QA60',\n",
       "   'data_type': {'type': 'PixelType',\n",
       "    'precision': 'int',\n",
       "    'min': 0,\n",
       "    'max': 65535},\n",
       "   'dimensions': [2, 2],\n",
       "   'origin': [13, 46],\n",
       "   'crs': 'EPSG:4326',\n",
       "   'crs_transform': [1, 0, 0, 0, 1, 0]}],\n",
       " 'properties': {'system:footprint': {'type': 'Polygon',\n",
       "   'coordinates': [[[14.115800315616843, 46.6264154954955],\n",
       "     [14.128919684383158, 46.6264154954955],\n",
       "     [14.128919684383158, 46.635424504504506],\n",
       "     [14.115800315616843, 46.635424504504506],\n",
       "     [14.115800315616843, 46.6264154954955]]]}}}"
      ]
     },
     "execution_count": 134,
     "metadata": {},
     "output_type": "execute_result"
    }
   ],
   "source": [
    "s2.getInfo()"
   ]
  },
  {
   "cell_type": "code",
   "execution_count": 130,
   "metadata": {},
   "outputs": [
    {
     "data": {
      "text/html": [
       "\n",
       "            <style>\n",
       "                .geemap-dark {\n",
       "                    --jp-widgets-color: white;\n",
       "                    --jp-widgets-label-color: white;\n",
       "                    --jp-ui-font-color1: white;\n",
       "                    --jp-layout-color2: #454545;\n",
       "                    background-color: #383838;\n",
       "                }\n",
       "\n",
       "                .geemap-dark .jupyter-button {\n",
       "                    --jp-layout-color3: #383838;\n",
       "                }\n",
       "\n",
       "                .geemap-colab {\n",
       "                    background-color: var(--colab-primary-surface-color, white);\n",
       "                }\n",
       "\n",
       "                .geemap-colab .jupyter-button {\n",
       "                    --jp-layout-color3: var(--colab-primary-surface-color, white);\n",
       "                }\n",
       "            </style>\n",
       "            "
      ],
      "text/plain": [
       "<IPython.core.display.HTML object>"
      ]
     },
     "metadata": {},
     "output_type": "display_data"
    }
   ],
   "source": [
    "filename = row['GEMS.Station.Number'] + '-' + row['Datetime'].strftime('%Y%m%d-%H%M%S') + '.tif'"
   ]
  },
  {
   "cell_type": "code",
   "execution_count": 131,
   "metadata": {},
   "outputs": [
    {
     "data": {
      "text/html": [
       "\n",
       "            <style>\n",
       "                .geemap-dark {\n",
       "                    --jp-widgets-color: white;\n",
       "                    --jp-widgets-label-color: white;\n",
       "                    --jp-ui-font-color1: white;\n",
       "                    --jp-layout-color2: #454545;\n",
       "                    background-color: #383838;\n",
       "                }\n",
       "\n",
       "                .geemap-dark .jupyter-button {\n",
       "                    --jp-layout-color3: #383838;\n",
       "                }\n",
       "\n",
       "                .geemap-colab {\n",
       "                    background-color: var(--colab-primary-surface-color, white);\n",
       "                }\n",
       "\n",
       "                .geemap-colab .jupyter-button {\n",
       "                    --jp-layout-color3: var(--colab-primary-surface-color, white);\n",
       "                }\n",
       "            </style>\n",
       "            "
      ],
      "text/plain": [
       "<IPython.core.display.HTML object>"
      ]
     },
     "metadata": {},
     "output_type": "display_data"
    },
    {
     "data": {
      "text/plain": [
       "'AUT00252-20161205-120000.tif'"
      ]
     },
     "execution_count": 131,
     "metadata": {},
     "output_type": "execute_result"
    }
   ],
   "source": [
    "filename"
   ]
  },
  {
   "cell_type": "code",
   "execution_count": null,
   "metadata": {},
   "outputs": [],
   "source": []
  }
 ],
 "metadata": {
  "kernelspec": {
   "display_name": "env",
   "language": "python",
   "name": "python3"
  },
  "language_info": {
   "codemirror_mode": {
    "name": "ipython",
    "version": 3
   },
   "file_extension": ".py",
   "mimetype": "text/x-python",
   "name": "python",
   "nbconvert_exporter": "python",
   "pygments_lexer": "ipython3",
   "version": "3.12.4"
  }
 },
 "nbformat": 4,
 "nbformat_minor": 2
}
